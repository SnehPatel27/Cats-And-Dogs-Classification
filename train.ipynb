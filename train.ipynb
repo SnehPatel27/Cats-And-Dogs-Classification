{
  "nbformat": 4,
  "nbformat_minor": 0,
  "metadata": {
    "colab": {
      "provenance": []
    },
    "kernelspec": {
      "name": "python3",
      "display_name": "Python 3"
    },
    "accelerator": "GPU"
  },
  "cells": [
    {
      "metadata": {
        "id": "gbwF0CWA1hVA"
      },
      "cell_type": "markdown",
      "source": [
        "Below we're using Keras, to train an NN with images of cats and dogs."
      ]
    },
    {
      "metadata": {
        "id": "vZ6mlChb1fsI",
        "colab": {
          "base_uri": "https://localhost:8080/"
        },
        "outputId": "0012a829-6325-40bc-aa50-b69cfe7c68bd"
      },
      "cell_type": "code",
      "source": [
        "from keras.preprocessing.image import ImageDataGenerator\n",
        "from keras.models import Sequential\n",
        "from keras.layers import Conv2D, MaxPooling2D\n",
        "from keras.layers import Activation, Dropout, Flatten, Dense\n",
        "from keras import backend as K\n",
        "\n",
        "from google.colab import drive\n",
        "drive.mount(\"/content/drive\")\n",
        "\n",
        "# dimensions of our images.\n",
        "img_width, img_height = 150, 150\n",
        "train_data_dir = '/content/drive/MyDrive/cats-vs-dogs/data/train'\n",
        "validation_data_dir = '/content/drive/MyDrive/cats-vs-dogs/data/validation'\n",
        "nb_train_samples = 2000\n",
        "nb_validation_samples = 800\n",
        "epochs = 50\n",
        "batch_size = 16\n",
        "\n",
        "if K.image_data_format() == 'channels_first':\n",
        "    input_shape = (3, img_width, img_height)\n",
        "else:\n",
        "    input_shape = (img_width, img_height, 3)\n",
        "\n",
        "model = Sequential()\n",
        "model.add(Conv2D(32, (3, 3), input_shape=input_shape))\n",
        "model.add(Activation('relu'))\n",
        "model.add(MaxPooling2D(pool_size=(2, 2)))\n",
        "\n",
        "model.add(Conv2D(32, (3, 3)))\n",
        "model.add(Activation('relu'))\n",
        "model.add(MaxPooling2D(pool_size=(2, 2)))\n",
        "\n",
        "model.add(Conv2D(64, (3, 3)))\n",
        "model.add(Activation('relu'))\n",
        "model.add(MaxPooling2D(pool_size=(2, 2)))\n",
        "\n",
        "model.add(Flatten())\n",
        "model.add(Dense(64))\n",
        "model.add(Activation('relu'))\n",
        "model.add(Dropout(0.5))\n",
        "model.add(Dense(1))\n",
        "model.add(Activation('sigmoid'))\n",
        "\n",
        "model.compile(loss='binary_crossentropy',\n",
        "              optimizer='rmsprop',\n",
        "              metrics=['accuracy'])\n",
        "\n",
        "# this is the augmentation configuration we will use for training\n",
        "train_datagen = ImageDataGenerator(\n",
        "    rescale=1. / 255,\n",
        "    shear_range=0.2,\n",
        "    zoom_range=0.2,\n",
        "    horizontal_flip=True)\n",
        "\n",
        "# this is the augmentation configuration we will use for testing:\n",
        "# only rescaling\n",
        "test_datagen = ImageDataGenerator(rescale=1. / 255)\n",
        "\n",
        "train_generator = train_datagen.flow_from_directory(\n",
        "    train_data_dir,\n",
        "    target_size=(img_width, img_height),\n",
        "    batch_size=batch_size,\n",
        "    class_mode='binary')\n",
        "\n",
        "validation_generator = test_datagen.flow_from_directory(\n",
        "    validation_data_dir,\n",
        "    target_size=(img_width, img_height),\n",
        "    batch_size=batch_size,\n",
        "    class_mode='binary')\n",
        "\n",
        "model.fit_generator(\n",
        "    train_generator,\n",
        "    steps_per_epoch=nb_train_samples // batch_size,\n",
        "    epochs=epochs,\n",
        "    validation_data=validation_generator,\n",
        "    validation_steps=nb_validation_samples // batch_size)\n",
        "\n",
        "model.save_weights('/content/drive/MyDrive/cats-vs-dogs/weights.h5')\n",
        "\n"
      ],
      "execution_count": null,
      "outputs": [
        {
          "output_type": "stream",
          "name": "stdout",
          "text": [
            "Drive already mounted at /content/drive; to attempt to forcibly remount, call drive.mount(\"/content/drive\", force_remount=True).\n",
            "Found 2000 images belonging to 2 classes.\n",
            "Found 804 images belonging to 2 classes.\n"
          ]
        },
        {
          "output_type": "stream",
          "name": "stderr",
          "text": [
            "<ipython-input-8-fe16f9f77290>:71: UserWarning: `Model.fit_generator` is deprecated and will be removed in a future version. Please use `Model.fit`, which supports generators.\n",
            "  model.fit_generator(\n"
          ]
        },
        {
          "output_type": "stream",
          "name": "stdout",
          "text": [
            "Epoch 1/50\n",
            "125/125 [==============================] - 26s 190ms/step - loss: 0.7214 - accuracy: 0.5115 - val_loss: 0.6883 - val_accuracy: 0.5075\n",
            "Epoch 2/50\n",
            "125/125 [==============================] - 21s 172ms/step - loss: 0.6892 - accuracy: 0.5625 - val_loss: 0.6651 - val_accuracy: 0.6400\n",
            "Epoch 3/50\n",
            "125/125 [==============================] - 25s 199ms/step - loss: 0.6623 - accuracy: 0.6080 - val_loss: 0.6400 - val_accuracy: 0.6587\n",
            "Epoch 4/50\n",
            "125/125 [==============================] - 21s 170ms/step - loss: 0.6364 - accuracy: 0.6535 - val_loss: 0.6281 - val_accuracy: 0.6400\n",
            "Epoch 5/50\n",
            "125/125 [==============================] - 21s 171ms/step - loss: 0.6115 - accuracy: 0.6675 - val_loss: 0.5749 - val_accuracy: 0.7075\n",
            "Epoch 6/50\n",
            "125/125 [==============================] - 21s 166ms/step - loss: 0.5971 - accuracy: 0.6930 - val_loss: 0.5851 - val_accuracy: 0.6875\n",
            "Epoch 7/50\n",
            "125/125 [==============================] - 21s 167ms/step - loss: 0.5848 - accuracy: 0.7065 - val_loss: 0.5438 - val_accuracy: 0.7312\n",
            "Epoch 8/50\n",
            "125/125 [==============================] - 21s 168ms/step - loss: 0.5741 - accuracy: 0.7075 - val_loss: 0.5595 - val_accuracy: 0.7175\n",
            "Epoch 9/50\n",
            "125/125 [==============================] - 23s 188ms/step - loss: 0.5461 - accuracy: 0.7270 - val_loss: 0.5184 - val_accuracy: 0.7538\n",
            "Epoch 10/50\n",
            "125/125 [==============================] - 21s 169ms/step - loss: 0.5357 - accuracy: 0.7355 - val_loss: 0.5613 - val_accuracy: 0.7362\n",
            "Epoch 11/50\n",
            "125/125 [==============================] - 22s 173ms/step - loss: 0.5108 - accuracy: 0.7415 - val_loss: 0.5815 - val_accuracy: 0.7262\n",
            "Epoch 12/50\n",
            "125/125 [==============================] - 21s 167ms/step - loss: 0.4899 - accuracy: 0.7605 - val_loss: 0.6297 - val_accuracy: 0.7138\n",
            "Epoch 13/50\n",
            "125/125 [==============================] - 23s 187ms/step - loss: 0.4953 - accuracy: 0.7700 - val_loss: 0.5411 - val_accuracy: 0.7113\n",
            "Epoch 14/50\n",
            "125/125 [==============================] - 21s 164ms/step - loss: 0.4813 - accuracy: 0.7755 - val_loss: 0.5301 - val_accuracy: 0.7325\n",
            "Epoch 15/50\n",
            "125/125 [==============================] - 21s 168ms/step - loss: 0.4733 - accuracy: 0.7860 - val_loss: 0.5308 - val_accuracy: 0.7550\n",
            "Epoch 16/50\n",
            "125/125 [==============================] - 21s 168ms/step - loss: 0.4612 - accuracy: 0.7800 - val_loss: 0.4882 - val_accuracy: 0.7675\n",
            "Epoch 17/50\n",
            "125/125 [==============================] - 21s 169ms/step - loss: 0.4542 - accuracy: 0.7960 - val_loss: 0.5147 - val_accuracy: 0.7588\n",
            "Epoch 18/50\n",
            "125/125 [==============================] - 23s 188ms/step - loss: 0.4508 - accuracy: 0.7895 - val_loss: 0.5660 - val_accuracy: 0.7325\n",
            "Epoch 19/50\n",
            "125/125 [==============================] - 21s 168ms/step - loss: 0.4425 - accuracy: 0.8035 - val_loss: 0.5768 - val_accuracy: 0.7038\n",
            "Epoch 20/50\n",
            "125/125 [==============================] - 21s 168ms/step - loss: 0.4221 - accuracy: 0.8105 - val_loss: 0.5802 - val_accuracy: 0.7325\n",
            "Epoch 21/50\n",
            "125/125 [==============================] - 20s 164ms/step - loss: 0.4259 - accuracy: 0.8065 - val_loss: 0.5557 - val_accuracy: 0.7325\n",
            "Epoch 22/50\n",
            "125/125 [==============================] - 21s 169ms/step - loss: 0.4224 - accuracy: 0.8215 - val_loss: 0.5413 - val_accuracy: 0.7450\n",
            "Epoch 23/50\n",
            "125/125 [==============================] - 24s 194ms/step - loss: 0.4087 - accuracy: 0.8255 - val_loss: 0.5480 - val_accuracy: 0.7625\n",
            "Epoch 24/50\n",
            "125/125 [==============================] - 21s 165ms/step - loss: 0.3750 - accuracy: 0.8400 - val_loss: 0.5326 - val_accuracy: 0.7812\n",
            "Epoch 25/50\n",
            "125/125 [==============================] - 23s 187ms/step - loss: 0.3842 - accuracy: 0.8380 - val_loss: 0.5220 - val_accuracy: 0.7725\n",
            "Epoch 26/50\n",
            "125/125 [==============================] - 21s 164ms/step - loss: 0.3803 - accuracy: 0.8365 - val_loss: 0.5168 - val_accuracy: 0.7900\n",
            "Epoch 27/50\n",
            "125/125 [==============================] - 22s 178ms/step - loss: 0.3672 - accuracy: 0.8435 - val_loss: 0.5030 - val_accuracy: 0.7788\n",
            "Epoch 28/50\n",
            "125/125 [==============================] - 24s 189ms/step - loss: 0.3855 - accuracy: 0.8390 - val_loss: 0.5855 - val_accuracy: 0.7613\n",
            "Epoch 29/50\n",
            "125/125 [==============================] - 21s 165ms/step - loss: 0.3545 - accuracy: 0.8430 - val_loss: 0.5905 - val_accuracy: 0.7750\n",
            "Epoch 30/50\n",
            "125/125 [==============================] - 23s 187ms/step - loss: 0.3406 - accuracy: 0.8600 - val_loss: 0.5252 - val_accuracy: 0.8000\n",
            "Epoch 31/50\n",
            "125/125 [==============================] - 21s 166ms/step - loss: 0.3498 - accuracy: 0.8470 - val_loss: 0.5072 - val_accuracy: 0.7613\n",
            "Epoch 32/50\n",
            "125/125 [==============================] - 21s 169ms/step - loss: 0.3636 - accuracy: 0.8475 - val_loss: 0.5682 - val_accuracy: 0.7950\n",
            "Epoch 33/50\n",
            "125/125 [==============================] - 22s 174ms/step - loss: 0.3550 - accuracy: 0.8555 - val_loss: 0.4811 - val_accuracy: 0.7962\n",
            "Epoch 34/50\n",
            "125/125 [==============================] - 21s 168ms/step - loss: 0.3635 - accuracy: 0.8420 - val_loss: 0.4926 - val_accuracy: 0.7837\n",
            "Epoch 35/50\n",
            "125/125 [==============================] - 21s 165ms/step - loss: 0.3506 - accuracy: 0.8495 - val_loss: 0.5831 - val_accuracy: 0.7800\n",
            "Epoch 36/50\n",
            "125/125 [==============================] - 21s 165ms/step - loss: 0.3399 - accuracy: 0.8600 - val_loss: 0.6250 - val_accuracy: 0.7487\n",
            "Epoch 37/50\n",
            "125/125 [==============================] - 21s 169ms/step - loss: 0.3224 - accuracy: 0.8755 - val_loss: 0.6592 - val_accuracy: 0.7575\n",
            "Epoch 38/50\n",
            "125/125 [==============================] - 21s 164ms/step - loss: 0.3244 - accuracy: 0.8705 - val_loss: 0.8996 - val_accuracy: 0.7812\n",
            "Epoch 39/50\n",
            "125/125 [==============================] - 20s 164ms/step - loss: 0.3354 - accuracy: 0.8590 - val_loss: 0.5858 - val_accuracy: 0.7887\n",
            "Epoch 40/50\n",
            "125/125 [==============================] - 22s 177ms/step - loss: 0.3429 - accuracy: 0.8640 - val_loss: 0.5303 - val_accuracy: 0.8062\n",
            "Epoch 41/50\n",
            "125/125 [==============================] - 21s 169ms/step - loss: 0.3302 - accuracy: 0.8655 - val_loss: 0.7888 - val_accuracy: 0.7725\n",
            "Epoch 42/50\n",
            "125/125 [==============================] - 21s 165ms/step - loss: 0.3390 - accuracy: 0.8575 - val_loss: 0.5736 - val_accuracy: 0.7825\n",
            "Epoch 43/50\n",
            "125/125 [==============================] - 21s 167ms/step - loss: 0.3183 - accuracy: 0.8705 - val_loss: 0.9374 - val_accuracy: 0.7775\n",
            "Epoch 44/50\n",
            "125/125 [==============================] - 22s 172ms/step - loss: 0.3582 - accuracy: 0.8565 - val_loss: 0.6029 - val_accuracy: 0.8012\n",
            "Epoch 45/50\n",
            "125/125 [==============================] - 21s 165ms/step - loss: 0.3186 - accuracy: 0.8740 - val_loss: 0.6018 - val_accuracy: 0.7925\n",
            "Epoch 46/50\n",
            "125/125 [==============================] - 22s 176ms/step - loss: 0.2916 - accuracy: 0.8780 - val_loss: 0.6358 - val_accuracy: 0.7950\n",
            "Epoch 47/50\n",
            "125/125 [==============================] - 21s 166ms/step - loss: 0.3328 - accuracy: 0.8770 - val_loss: 0.8215 - val_accuracy: 0.7337\n",
            "Epoch 48/50\n",
            "125/125 [==============================] - 23s 188ms/step - loss: 0.3227 - accuracy: 0.8700 - val_loss: 0.6392 - val_accuracy: 0.7912\n",
            "Epoch 49/50\n",
            "125/125 [==============================] - 21s 166ms/step - loss: 0.3141 - accuracy: 0.8885 - val_loss: 0.6196 - val_accuracy: 0.7663\n",
            "Epoch 50/50\n",
            "125/125 [==============================] - 21s 165ms/step - loss: 0.3280 - accuracy: 0.8755 - val_loss: 0.6367 - val_accuracy: 0.8012\n"
          ]
        }
      ]
    },
    {
      "cell_type": "markdown",
      "source": [],
      "metadata": {
        "id": "d3AALTkFKedK"
      }
    },
    {
      "cell_type": "code",
      "source": [
        "model.save_weights('/content/drive/MyDrive/cats-vs-dogs/weights.h5')"
      ],
      "metadata": {
        "id": "nyQ6HbAqKfY5"
      },
      "execution_count": null,
      "outputs": []
    },
    {
      "metadata": {
        "id": "QRRJgidkR62e"
      },
      "cell_type": "code",
      "source": [
        "#drive.mount(\"/content/drive\")\n",
        "!ls \"/content/drive/My Drive/Colab Notebooks/cats-vs-dogs\""
      ],
      "execution_count": null,
      "outputs": []
    },
    {
      "metadata": {
        "id": "VBfCNs9q4I48"
      },
      "cell_type": "code",
      "source": [],
      "execution_count": null,
      "outputs": []
    }
  ]
}